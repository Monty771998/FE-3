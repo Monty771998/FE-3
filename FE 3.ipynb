{
 "cells": [
  {
   "cell_type": "markdown",
   "id": "555fbf59-f1c2-46dc-8788-a1d9344adc35",
   "metadata": {},
   "source": [
    "Q1. What is data encoding? How is it useful in data science?"
   ]
  },
  {
   "cell_type": "markdown",
   "id": "0f181078-f453-4f8e-b71d-8a748a611cbc",
   "metadata": {},
   "source": [
    "Data encoding is the process of converting categorical or non-numeric data into a numerical format that can be used by machine learning algorithms.\n",
    "\n",
    "Usefulness in Data Science:\n",
    "\n",
    "1)Compatibility: Most algorithms require numerical input, so encoding allows categorical data to be used in models.\n",
    "2)Performance: Proper encoding can improve model performance by enabling algorithms to learn from categorical features                  effectively.\n",
    "3)Analysis: Helps in understanding and visualizing data patterns, and in preprocessing steps for data analysis.\n",
    "\n",
    "Common Methods:\n",
    "\n",
    "1)One-Hot Encoding: Converts categories into binary vectors.\n",
    "2)Label Encoding: Converts categories into integers.\n",
    "\n",
    "\n",
    "\n",
    "\n",
    "\n"
   ]
  },
  {
   "cell_type": "code",
   "execution_count": null,
   "id": "a42b6df2-f99b-4c73-955b-b1d3cfa3032b",
   "metadata": {},
   "outputs": [],
   "source": []
  },
  {
   "cell_type": "markdown",
   "id": "3af33269-5d2a-4552-baa4-778fcc6075c6",
   "metadata": {},
   "source": [
    "Q2. What is nominal encoding? Provide an example of how you would use it in a real-world scenario."
   ]
  },
  {
   "cell_type": "markdown",
   "id": "fd521a6d-444c-49b1-b9c1-09df4975bbaa",
   "metadata": {},
   "source": [
    "Nominal encoding is a type of data encoding used for categorical variables where the categories do not have a meaningful order or ranking. In nominal encoding, each category is assigned a unique integer label.\n",
    "\n",
    "Example:\n",
    "\n",
    "Scenario: You have a dataset of customer information with a feature called \"Customer Segment\" that includes categories such as \"New\", \"Returning\", and \"VIP\".\n",
    "\n",
    "Nominal Encoding Process:\n",
    "\n",
    "1)Identify Categories: The categories are \"New\", \"Returning\", and \"VIP\".\n",
    "2)Assign Labels: Assign an integer to each category:\n",
    "  \"New\" → 0\n",
    "  \"Returning\" → 1\n",
    "  \"VIP\" → 2\n",
    "\n",
    "Usage in a Real-World Scenario:\n",
    "\n",
    "1)Customer Segmentation Analysis: Use nominal encoding to convert the \"Customer Segment\" feature into numerical labels. This allows you to include this feature in machine learning models to predict customer behavior, segment customers, or personalize marketing strategies.\n",
    "\n",
    "In this way, nominal encoding facilitates the integration of categorical data into numerical models, making it easier to apply various data analysis and machine learning techniques.\n",
    "\n",
    "\n",
    "\n",
    "\n",
    "\n",
    "\n"
   ]
  },
  {
   "cell_type": "code",
   "execution_count": null,
   "id": "0f6c049c-d552-4c3a-b962-1145887bce2d",
   "metadata": {},
   "outputs": [],
   "source": []
  },
  {
   "cell_type": "markdown",
   "id": "3eeaab2e-17a7-4a22-9f2c-00e45487add6",
   "metadata": {},
   "source": [
    "Q3. In what situations is nominal encoding preferred over one-hot encoding? Provide a practical example."
   ]
  },
  {
   "cell_type": "markdown",
   "id": "498e05d4-758b-47f0-9fbd-4a60f9fa3339",
   "metadata": {},
   "source": [
    "Nominal encoding is preferred over one-hot encoding in situations where:\n",
    "\n",
    "1)High Cardinality: The categorical feature has a large number of unique values, making one-hot encoding impractical due to the large number of resulting binary features.\n",
    "\n",
    "2)Order Not Important: The categorical feature does not have any intrinsic order or ranking, and the numeric encoding will not misrepresent the data's meaning.\n",
    "\n",
    "3)Memory and Computational Efficiency: Nominal encoding is more memory-efficient and computationally less expensive compared to one-hot encoding, which creates many additional binary columns.\n",
    "\n",
    "Practical Example:\n",
    "\n",
    "Scenario: You are working with a dataset of user IDs in an online platform, where each user ID is a unique identifier for individual users.\n",
    "\n",
    "Using Nominal Encoding:\n",
    "\n",
    " -Feature: User_ID (e.g., 001, 002, 003, ... , 1000)\n",
    " -Encoding: Assign each user ID a unique integer label (e.g., 001 → 0, 002 → 1, 003 → 2, ..., 1000 → 999).\n",
    "\n",
    "Reason for Nominal Encoding:\n",
    "\n",
    " -High Cardinality: There are thousands of unique user IDs, so one-hot encoding would create thousands of binary features, which is impractical.\n",
    " -No Order: User IDs have no meaningful order or ranking, so treating them as integers for model processing is sufficient.\n",
    "\n",
    "\n",
    "\n",
    "\n",
    "\n",
    "\n",
    "\n"
   ]
  },
  {
   "cell_type": "code",
   "execution_count": null,
   "id": "770bad8c-11f9-4525-9e1e-1d4fd4ce35ab",
   "metadata": {},
   "outputs": [],
   "source": []
  },
  {
   "cell_type": "markdown",
   "id": "1cd18711-20ef-41e4-9f75-675a84cb7b72",
   "metadata": {},
   "source": [
    "Q4. Suppose you have a dataset containing categorical data with 5 unique values. Which encoding\n",
    "technique would you use to transform this data into a format suitable for machine learning algorithms?\n",
    "Explain why you made this choice."
   ]
  },
  {
   "cell_type": "markdown",
   "id": "04de74c1-5577-4c29-b195-03573df2d77b",
   "metadata": {},
   "source": [
    "For a dataset containing categorical data with 5 unique values, one-hot encoding is generally preferred. Here's why:\n",
    "\n",
    "1)Prevents Ordinal Assumptions: One-hot encoding avoids any assumptions about the order or ranking of categories, which is important when categories do not have a meaningful order.\n",
    "\n",
    "2)Improves Model Performance: Most machine learning algorithms perform better with one-hot encoded data as it treats each category as a separate feature, allowing the model to learn from all unique values independently.\n",
    "\n",
    "3_Compatibility with Algorithms: Many machine learning algorithms, especially those based on distance metrics (e.g., k-nearest neighbors) or linear models (e.g., logistic regression), require numerical input and can benefit from one-hot encoding because it avoids issues related to ordinal encoding.\n",
    "\n",
    "Example:\n",
    "\n",
    "Scenario: You have a feature Color with 5 unique values: [\"Red\", \"Blue\", \"Green\", \"Yellow\", \"Black\"].\n",
    "\n",
    "One-Hot Encoding:\n",
    "\n",
    "  Original Values: [\"Red\", \"Blue\", \"Green\", \"Yellow\", \"Black\"]\n",
    "  Encoded Values:\n",
    "    \"Red\" → [1, 0, 0, 0, 0]\n",
    "    \"Blue\" → [0, 1, 0, 0, 0]\n",
    "    \"Green\" → [0, 0, 1, 0, 0]\n",
    "    \"Yellow\" → [0, 0, 0, 1, 0]\n",
    "    \"Black\" → [0, 0, 0, 0, 1]\n",
    "\n",
    "Why One-Hot Encoding:\n",
    "\n",
    "1)No Implicit Order: The categories (\"Red\", \"Blue\", etc.) have no natural order, so one-hot encoding accurately represents the feature without introducing any unintended ordinal relationships.\n",
    "\n",
    "2)Simple and Effective: For a small number of unique values (like 5), one-hot encoding is straightforward and does not lead to excessive dimensionality.\n",
    "\n",
    "In summary, one-hot encoding is suitable here because it effectively represents categorical data without assuming any order or ranking, and it works well with machine learning algorithms that require numerical input.\n",
    "\n",
    "\n",
    "\n",
    "\n",
    "\n",
    "\n"
   ]
  },
  {
   "cell_type": "code",
   "execution_count": null,
   "id": "348b1437-69a3-4bd2-b22e-69d22a138a95",
   "metadata": {},
   "outputs": [],
   "source": []
  },
  {
   "cell_type": "markdown",
   "id": "07ebfff0-2caf-4d6f-b977-ee49808f8825",
   "metadata": {},
   "source": [
    "Q5. In a machine learning project, you have a dataset with 1000 rows and 5 columns. Two of the columns\n",
    "are categorical, and the remaining three columns are numerical. If you were to use nominal encoding to\n",
    "transform the categorical data, how many new columns would be created? Show your calculations."
   ]
  },
  {
   "cell_type": "markdown",
   "id": "d3c6f493-aad7-4317-b10c-bc090e60c623",
   "metadata": {},
   "source": [
    "To determine how many new columns would be created by using nominal encoding for the categorical columns, follow these steps:\n",
    "\n",
    "Identify the Number of Unique Categories: For nominal encoding, each unique category is assigned a unique integer label.\n",
    "\n",
    "Calculate the Total Number of New Columns: In nominal encoding, each categorical column will be replaced by a single integer column. Therefore, the number of new columns created is equal to the number of categorical columns.\n",
    "\n",
    "Given:\n",
    "\n",
    "The dataset has 2 categorical columns.\n",
    "Using Nominal Encoding:\n",
    "\n",
    "Each categorical column will be transformed into one new column with integer labels.\n",
    "Calculation:\n",
    "\n",
    "Number of Categorical Columns: 2\n",
    "Number of New Columns Created: Each categorical column will result in 1 new column.\n",
    "So, the total number of new columns created by nominal encoding will be:\n",
    "\n",
    "Number of New Columns=2\n",
    "Summary:\n",
    "\n",
    "Nominal encoding will create 2 new columns in the dataset, one for each categorical column.\n",
    "\n",
    "\n",
    "\n",
    "\n",
    "\n",
    "\n"
   ]
  },
  {
   "cell_type": "code",
   "execution_count": null,
   "id": "def01fb8-1379-4ba1-aa40-fe0a8838264b",
   "metadata": {},
   "outputs": [],
   "source": []
  },
  {
   "cell_type": "markdown",
   "id": "65aee3b9-c772-4536-8080-b8307fda6c30",
   "metadata": {},
   "source": [
    "Q6. You are working with a dataset containing information about different types of animals, including their\n",
    "species, habitat, and diet. Which encoding technique would you use to transform the categorical data into\n",
    "a format suitable for machine learning algorithms? Justify your answer."
   ]
  },
  {
   "cell_type": "markdown",
   "id": "b4139efc-8369-4536-92a2-f4b5a8c89d9f",
   "metadata": {},
   "source": [
    "For a dataset containing categorical data about animals, such as their species, habitat, and diet, one-hot encoding is typically the preferred technique. Here’s why:\n",
    "\n",
    "1)No Implicit Order: Categories like species, habitat, and diet do not have an inherent order or ranking. One-hot encoding ensures that each category is represented independently without implying any ordinal relationship.\n",
    "\n",
    "2)Model Performance: One-hot encoding allows machine learning algorithms to treat each category as a separate feature, which can help in capturing patterns and relationships more effectively. This is especially important for algorithms that are sensitive to categorical data.\n",
    "\n",
    "3)Algorithm Compatibility: Most machine learning algorithms require numerical input and perform better when categorical data is represented in a binary format, where each category has its own column. One-hot encoding meets this requirement without introducing bias.\n",
    "\n",
    "Example of One-Hot Encoding:\n",
    "\n",
    "Feature: Species with categories [\"Lion\", \"Tiger\", \"Bear\"]\n",
    "\n",
    "One-hot encoded representation:\n",
    "\"Lion\" → [1, 0, 0]\n",
    "\"Tiger\" → [0, 1, 0]\n",
    "\"Bear\" → [0, 0, 1]\n",
    "\n",
    "Feature: Habitat with categories [\"Forest\", \"Desert\", \"Savannah\"]\n",
    "\n",
    "One-hot encoded representation:\n",
    "\"Forest\" → [1, 0, 0]\n",
    "\"Desert\" → [0, 1, 0]\n",
    "\"Savannah\" → [0, 0, 1]\n",
    "\n",
    "Feature: Diet with categories [\"Carnivore\", \"Herbivore\", \"Omnivore\"]\n",
    "\n",
    "One-hot encoded representation:\n",
    "\"Carnivore\" → [1, 0, 0]\n",
    "\"Herbivore\" → [0, 1, 0]\n",
    "\"Omnivore\" → [0, 0, 1]\n",
    "\n",
    "One-hot encoding is suitable for transforming categorical data like species, habitat, and diet into a numerical format that is compatible with machine learning algorithms. It avoids the introduction of any ordinal bias and helps in effectively representing the categorical features.\n",
    "\n",
    "\n",
    "\n",
    "\n",
    "\n",
    "\n"
   ]
  },
  {
   "cell_type": "code",
   "execution_count": null,
   "id": "396530d8-4032-4995-b6fe-b6da73247f6a",
   "metadata": {},
   "outputs": [],
   "source": []
  },
  {
   "cell_type": "markdown",
   "id": "6e3d6821-6376-47df-aa6d-06912f809661",
   "metadata": {},
   "source": [
    "Q7.You are working on a project that involves predicting customer churn for a telecommunications\n",
    "company. You have a dataset with 5 features, including the customer's gender, age, contract type,\n",
    "monthly charges, and tenure. Which encoding technique(s) would you use to transform the categorical\n",
    "data into numerical data? Provide a step-by-step explanation of how you would implement the encoding."
   ]
  },
  {
   "cell_type": "markdown",
   "id": "71a67460-b3d8-4d61-be64-a55ac32bdb65",
   "metadata": {},
   "source": [
    "For predicting customer churn, you need to transform categorical features like gender and contract type into numerical data. Here’s a step-by-step explanation of how to use encoding techniques for these categorical features:\n",
    "\n",
    "Encoding Techniques and Implementation\n",
    "\n",
    "1. Identify Categorical Features:\n",
    "\n",
    "  -Gender (e.g., \"Male\", \"Female\")\n",
    "  -Contract Type (e.g., \"Month-to-Month\", \"One Year\", \"Two Years\")\n",
    "\n",
    "2. Choose Encoding Techniques:\n",
    "\n",
    "  -One-Hot Encoding: Suitable for categorical features where categories do not have an inherent order or ranking (e.g.,                        Gender, Contract Type).\n",
    "  -Label Encoding: Could be used if there’s an ordinal relationship (though in this case, we will stick with one-hot                        encoding to avoid assumptions).\n",
    "\n",
    "3. Implement One-Hot Encoding:\n",
    "\n",
    "For Gender:\n",
    "\n",
    " -Original Categories: [\"Male\", \"Female\"]\n",
    " -One-Hot Encoding:\n",
    "    \"Male\" → [1, 0]\n",
    "    \"Female\" → [0, 1]\n",
    "\n",
    "For Contract Type:\n",
    "\n",
    " -Original Categories: [\"Month-to-Month\", \"One Year\", \"Two Years\"]\n",
    " -One-Hot Encoding:\n",
    "    \"Month-to-Month\" → [1, 0, 0]\n",
    "    \"One Year\" → [0, 1, 0]\n",
    "    \"Two Years\" → [0, 0, 1]\n",
    "\n",
    "4. Apply Encoding:\n",
    "\n",
    "Convert the categorical features into binary columns according to the one-hot encoding scheme.\n",
    "\n",
    "5. Example Implementation:\n",
    "\n",
    "Original Data:\n",
    "| Gender | Contract Type  | Age | Monthly Charges | Tenure |\n",
    "|--------|----------------|-----|-----------------|--------|\n",
    "| Male   | Month-to-Month | 30  | 70              | 12     |\n",
    "| Female | One Year       | 45  | 80              | 24     |\n",
    "| Male   | Two Years      | 50  | 60              | 36     |\n",
    "\n",
    "After One-Hot Encoding:\n",
    "| Gender_Male | Gender_Female | Contract_Month-to-Month | Contract_One Year | Contract_Two Years | Age | Monthly Charges | Tenure |\n",
    "|-------------|---------------|-------------------------|--------------------|--------------------|-----|-----------------|--------|\n",
    "| 1           | 0             | 1                       | 0                  | 0                  | 30  | 70              | 12     |\n",
    "| 0           | 1             | 0                       | 1                  | 0                  | 45  | 80              | 24     |\n",
    "| 1           | 0             | 0                       | 0                  | 1                  | 50  | 60              | 36     |\n",
    "\n",
    "Summary:\n",
    "1)One-Hot Encoding: Apply to categorical features like Gender and Contract Type to transform them into numerical format.\n",
    "\n",
    "2)Implementation: Create binary columns for each category in the original features, converting categorical values into a format that can be used by machine learning algorithms.\n",
    "\n"
   ]
  },
  {
   "cell_type": "code",
   "execution_count": null,
   "id": "24a86844-76ba-4fd5-8d40-fcaa61d846b8",
   "metadata": {},
   "outputs": [],
   "source": []
  },
  {
   "cell_type": "code",
   "execution_count": null,
   "id": "8e08ec1b-1879-4eda-91c6-7e71957a95b5",
   "metadata": {},
   "outputs": [],
   "source": []
  },
  {
   "cell_type": "code",
   "execution_count": null,
   "id": "d6806659-59dc-4c10-a130-ed67733ed861",
   "metadata": {},
   "outputs": [],
   "source": []
  },
  {
   "cell_type": "code",
   "execution_count": null,
   "id": "74a76ac8-782b-43f8-ad59-36a69a2de40b",
   "metadata": {},
   "outputs": [],
   "source": []
  },
  {
   "cell_type": "code",
   "execution_count": null,
   "id": "e227ea7b-db00-41ab-b6b6-e88763cb1146",
   "metadata": {},
   "outputs": [],
   "source": []
  },
  {
   "cell_type": "code",
   "execution_count": null,
   "id": "7a7b8f45-9af7-44ef-aad6-c60a23c1efba",
   "metadata": {},
   "outputs": [],
   "source": []
  },
  {
   "cell_type": "code",
   "execution_count": null,
   "id": "92d10d40-d633-4a23-ae29-39ae2b220c03",
   "metadata": {},
   "outputs": [],
   "source": []
  },
  {
   "cell_type": "code",
   "execution_count": null,
   "id": "c140de98-f639-46cc-ab09-8c3b01b38a84",
   "metadata": {},
   "outputs": [],
   "source": []
  },
  {
   "cell_type": "code",
   "execution_count": null,
   "id": "ceacb716-f24e-4136-a2a0-dca49aa50c3b",
   "metadata": {},
   "outputs": [],
   "source": []
  },
  {
   "cell_type": "code",
   "execution_count": null,
   "id": "d730faed-8f65-4969-9fa5-b86ed0699e37",
   "metadata": {},
   "outputs": [],
   "source": []
  },
  {
   "cell_type": "code",
   "execution_count": null,
   "id": "bd666380-fbd7-4b3b-b04b-75f0ee2330a7",
   "metadata": {},
   "outputs": [],
   "source": []
  },
  {
   "cell_type": "code",
   "execution_count": null,
   "id": "3ad8557c-521a-4c58-ae7f-f46582384168",
   "metadata": {},
   "outputs": [],
   "source": []
  },
  {
   "cell_type": "code",
   "execution_count": null,
   "id": "5d0f1761-2935-40db-8087-e756076c94c8",
   "metadata": {},
   "outputs": [],
   "source": []
  },
  {
   "cell_type": "code",
   "execution_count": null,
   "id": "2c8ea176-02e7-486c-8326-f1c510b84483",
   "metadata": {},
   "outputs": [],
   "source": []
  },
  {
   "cell_type": "code",
   "execution_count": null,
   "id": "a4082f48-3bbf-49ab-b27a-c0281007ce74",
   "metadata": {},
   "outputs": [],
   "source": []
  },
  {
   "cell_type": "code",
   "execution_count": null,
   "id": "2abd1c91-deb8-4211-8f0d-8693854b1ddf",
   "metadata": {},
   "outputs": [],
   "source": []
  },
  {
   "cell_type": "code",
   "execution_count": null,
   "id": "0912d9f9-2b90-4fa4-a388-1acaa55fddba",
   "metadata": {},
   "outputs": [],
   "source": []
  },
  {
   "cell_type": "code",
   "execution_count": null,
   "id": "0e9b7165-0895-47a0-864e-9b6d15bb7eb8",
   "metadata": {},
   "outputs": [],
   "source": []
  },
  {
   "cell_type": "code",
   "execution_count": null,
   "id": "09464168-0129-466f-98d0-8f0255fc0f35",
   "metadata": {},
   "outputs": [],
   "source": []
  },
  {
   "cell_type": "code",
   "execution_count": null,
   "id": "0b830c2b-8285-43b8-b82b-7e83c7626fa9",
   "metadata": {},
   "outputs": [],
   "source": []
  },
  {
   "cell_type": "code",
   "execution_count": null,
   "id": "5ab70304-26b5-46f2-969b-f443988b6837",
   "metadata": {},
   "outputs": [],
   "source": []
  },
  {
   "cell_type": "code",
   "execution_count": null,
   "id": "439509d9-33db-422a-8b15-0bac79b5cf3d",
   "metadata": {},
   "outputs": [],
   "source": []
  },
  {
   "cell_type": "code",
   "execution_count": null,
   "id": "7355c2ad-3112-47cb-aa45-ae5f9deb551b",
   "metadata": {},
   "outputs": [],
   "source": []
  },
  {
   "cell_type": "code",
   "execution_count": null,
   "id": "25406197-883c-4071-9e39-16266c8928a9",
   "metadata": {},
   "outputs": [],
   "source": []
  },
  {
   "cell_type": "code",
   "execution_count": null,
   "id": "b879dc53-576f-4033-96f1-c4907d0e39b1",
   "metadata": {},
   "outputs": [],
   "source": []
  },
  {
   "cell_type": "code",
   "execution_count": null,
   "id": "08475a06-55fb-460b-b5c7-842fbd345a5c",
   "metadata": {},
   "outputs": [],
   "source": []
  },
  {
   "cell_type": "code",
   "execution_count": null,
   "id": "75e7b599-3645-40e4-a072-f4791bf6d8bb",
   "metadata": {},
   "outputs": [],
   "source": []
  },
  {
   "cell_type": "code",
   "execution_count": null,
   "id": "2f1156fe-ba9d-46b9-882e-7ad21d3c46be",
   "metadata": {},
   "outputs": [],
   "source": []
  },
  {
   "cell_type": "code",
   "execution_count": null,
   "id": "75d1fff1-1405-4362-93b6-4e85aa08c955",
   "metadata": {},
   "outputs": [],
   "source": []
  },
  {
   "cell_type": "code",
   "execution_count": null,
   "id": "dbcf815d-1f6b-4fea-be8f-1934e39043a5",
   "metadata": {},
   "outputs": [],
   "source": []
  },
  {
   "cell_type": "code",
   "execution_count": null,
   "id": "8f117408-30ed-4d36-91ef-381cdd25d8dd",
   "metadata": {},
   "outputs": [],
   "source": []
  },
  {
   "cell_type": "code",
   "execution_count": null,
   "id": "64bbf0df-4e4c-4cac-946f-87309329d8ed",
   "metadata": {},
   "outputs": [],
   "source": []
  },
  {
   "cell_type": "code",
   "execution_count": null,
   "id": "2e6bd7ca-a4d2-4913-81ef-5412af2fbac7",
   "metadata": {},
   "outputs": [],
   "source": []
  },
  {
   "cell_type": "code",
   "execution_count": null,
   "id": "3d6d14e7-dce1-4c72-8d6b-4a27ec223f2a",
   "metadata": {},
   "outputs": [],
   "source": []
  },
  {
   "cell_type": "code",
   "execution_count": null,
   "id": "5bc0d4e7-41a0-4952-bbf8-a494f682c0b5",
   "metadata": {},
   "outputs": [],
   "source": []
  },
  {
   "cell_type": "code",
   "execution_count": null,
   "id": "58d3e825-19da-4d6a-b299-f6b4691b5ceb",
   "metadata": {},
   "outputs": [],
   "source": []
  },
  {
   "cell_type": "code",
   "execution_count": null,
   "id": "186eb111-c97b-469f-91eb-caaea548df96",
   "metadata": {},
   "outputs": [],
   "source": []
  },
  {
   "cell_type": "code",
   "execution_count": null,
   "id": "ac5ec353-6592-4d65-8451-9ff50449db64",
   "metadata": {},
   "outputs": [],
   "source": []
  },
  {
   "cell_type": "code",
   "execution_count": null,
   "id": "1d793d46-1674-4fbc-9911-c15efd4b6d65",
   "metadata": {},
   "outputs": [],
   "source": []
  }
 ],
 "metadata": {
  "kernelspec": {
   "display_name": "Python 3 (ipykernel)",
   "language": "python",
   "name": "python3"
  },
  "language_info": {
   "codemirror_mode": {
    "name": "ipython",
    "version": 3
   },
   "file_extension": ".py",
   "mimetype": "text/x-python",
   "name": "python",
   "nbconvert_exporter": "python",
   "pygments_lexer": "ipython3",
   "version": "3.10.8"
  }
 },
 "nbformat": 4,
 "nbformat_minor": 5
}
